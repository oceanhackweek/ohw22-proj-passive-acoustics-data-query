{
 "cells": [
  {
   "cell_type": "code",
   "execution_count": 1,
   "id": "6b50754b",
   "metadata": {},
   "outputs": [],
   "source": [
    "import numpy as np\n",
    "import pandas as pd\n",
    "from urllib.request import urlopen\n",
    "import json\n",
    "import re\n",
    "import os"
   ]
  },
  {
   "cell_type": "code",
   "execution_count": 2,
   "id": "0e346d5e",
   "metadata": {},
   "outputs": [],
   "source": [
    "urls = [\"https://gis.ngdc.noaa.gov/arcgis/rest/services/passive_acoustic_data/MapServer/0/query?where=1%3D1&outFields=*&returnGeometry=true&f=pjson\",\n",
    "       \"https://gis.ngdc.noaa.gov/arcgis/rest/services/passive_acoustic_data/MapServer/1/query?where=1%3D1&outFields=*&returnGeometry=true&f=pjson\",\n",
    "       \"https://gis.ngdc.noaa.gov/arcgis/rest/services/passive_acoustic_data/MapServer/2/query?where=1%3D1&outFields=*&returnGeometry=true&f=pjson\",\n",
    "       \"https://gis.ngdc.noaa.gov/arcgis/rest/services/passive_acoustic_data/MapServer/3/query?where=1%3D1&outFields=*&returnGeometry=true&f=pjson\"]"
   ]
  },
  {
   "cell_type": "code",
   "execution_count": 8,
   "id": "e9496f12",
   "metadata": {},
   "outputs": [],
   "source": [
    "\n",
    "dict_save = []\n",
    "\n",
    "for url in urls:\n",
    "        \n",
    "    # store the response of URL\n",
    "    url_output = urlopen(url)\n",
    "\n",
    "    # storing the JSON response from url in data\n",
    "    data_json = json.loads(url_output.read())\n",
    "\n",
    "    for data in data_json['features']:\n",
    "        metadata = data['attributes']\n",
    "        wanted_keys = ['DATA_COLLECTION_NAME','SOURCE_ORGANIZATION','PROJECT_NAME','MAX_SAMPLE_RATE','MAX_DURATION','MAX_BOTTOM_DEPTH','MAX_SENSOR_DEPTH','NUMBER_CHANNELS','geometry'] # The keys you want\n",
    "        tmp = dict((k, metadata[k]) for k in wanted_keys if k in metadata)\n",
    "        geometry = data['geometry']\n",
    "        data_quality = metadata['DATA_QUALITY']\n",
    "        sampling_details = metadata['SAMPLING_DETAILS']\n",
    "        \n",
    "        try:\n",
    "            dates = sampling_details.split(',')[0].split(':')[2].replace(' ','')\n",
    "            startDate = re.search('\"(.*)to', dates).group(1)\n",
    "            endDate = re.search('to(.*)\"', dates).group(1)\n",
    "        except:\n",
    "            dates = sampling_details.split('\"Date Range\"')[1].split(',')[0].replace(' ','')\n",
    "            startDate = re.search('\"(.*)to', dates).group(1)[0:10]\n",
    "            endDate = re.search('to(.*)\"', dates).group(1)[0:10]\n",
    "            \n",
    "        tmp['LON'] = geometry['points'][0][0]\n",
    "        tmp['LAT'] = geometry['points'][0][1]\n",
    "        tmp['START_DATE'] = startDate\n",
    "        tmp['END_DATE'] = endDate\n",
    "\n",
    "        dict_save.append(tmp)\n",
    "        \n",
    "path = os.getcwd()\n",
    "df = pd.DataFrame(dict_save)\n",
    "df.to_csv('NCEI.csv')"
   ]
  }
 ],
 "metadata": {
  "kernelspec": {
   "display_name": "Python 3 (ipykernel)",
   "language": "python",
   "name": "python3"
  },
  "language_info": {
   "codemirror_mode": {
    "name": "ipython",
    "version": 3
   },
   "file_extension": ".py",
   "mimetype": "text/x-python",
   "name": "python",
   "nbconvert_exporter": "python",
   "pygments_lexer": "ipython3",
   "version": "3.8.12"
  }
 },
 "nbformat": 4,
 "nbformat_minor": 5
}
